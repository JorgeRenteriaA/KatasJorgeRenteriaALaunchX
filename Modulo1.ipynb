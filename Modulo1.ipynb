{
 "cells": [
  {
   "cell_type": "markdown",
   "metadata": {},
   "source": [
    "Primera Kata\n",
    "\n",
    "*Programa que muestra fecha:"
   ]
  },
  {
   "cell_type": "code",
   "execution_count": 1,
   "metadata": {},
   "outputs": [
    {
     "name": "stdout",
     "output_type": "stream",
     "text": [
      "El dia de hoy es: 2022-02-13\n"
     ]
    }
   ],
   "source": [
    "#JorgeRenteriaA\n",
    "from datetime import date\n",
    "\n",
    "print(\"El dia de hoy es: \" + str(date.today()))"
   ]
  },
  {
   "cell_type": "markdown",
   "metadata": {},
   "source": [
    "*Programa convertidor de unidades:"
   ]
  },
  {
   "cell_type": "code",
   "execution_count": 2,
   "metadata": {},
   "outputs": [
    {
     "name": "stdout",
     "output_type": "stream",
     "text": [
      "Hola18 parsec(s) equivale(n) a 58.67999999999999 año(s) luz.\n"
     ]
    }
   ],
   "source": [
    "#JorgeRenteriaA\n",
    "parsec = 18\n",
    "lightyear = parsec * 3.26\n",
    "\n",
    "print(\"Hola\" + str(parsec) + \" parsec(s) equivale(n) a \" + str(lightyear) + \" año(s) luz.\")"
   ]
  }
 ],
 "metadata": {
  "interpreter": {
   "hash": "5949c86782cab2981deef5f1e507f581e2f7b6f6af33ecd6487ff9ce5e3f2c3b"
  },
  "kernelspec": {
   "display_name": "Python 3.9.5 64-bit",
   "language": "python",
   "name": "python3"
  },
  "language_info": {
   "codemirror_mode": {
    "name": "ipython",
    "version": 3
   },
   "file_extension": ".py",
   "mimetype": "text/x-python",
   "name": "python",
   "nbconvert_exporter": "python",
   "pygments_lexer": "ipython3",
   "version": "3.9.5"
  },
  "orig_nbformat": 4
 },
 "nbformat": 4,
 "nbformat_minor": 2
}
